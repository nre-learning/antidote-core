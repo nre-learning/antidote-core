{
 "cells": [
  {
   "cell_type": "markdown",
   "metadata": {},
   "source": [
    "# Multi-Vendor Network Automation with NAPALM\n",
    "\n",
    "## Part 1 - Get Device Facts\n",
    "\n"
   ]
  },
  {
   "cell_type": "markdown",
   "metadata": {},
   "source": [
    "When getting started with network automation, you'll undoubtedly start working with device APIs. Whether using a standards-based API like NETCONF, or a vendor-specific REST API, you'll eventually need to interact with one of these to retrieve data from a device, or push configuration changes.\n",
    "\n",
    "Most APIs of any type have a Python library for making it easy to work with them. Rather than craft your own API calls, you simply import a library like PyEZ (Juniper or PyEAPI (Arista) and use that library's functions to interact with the respective device.\n",
    "\n",
    "However in multi-vendor environments (like most of us have), this can get tedious. We end up having to write some logic that determines which library to use based on the type of device, and then use specific functions within that library, which is usually a totally different experience from library to library.\n",
    "\n",
    "NAPALM is a Python project that abstracts all of these to a common set of functions. In this lesson, we'll use this library to interact with our network devices.\n",
    "\n",
    "In order to work with our network device via NAPALM, we need to first import the library. This is done with a simple `import` statement:"
   ]
  },
  {
   "cell_type": "code",
   "execution_count": 7,
   "metadata": {},
   "outputs": [],
   "source": [
    "import napalm"
   ]
  },
  {
   "cell_type": "markdown",
   "metadata": {},
   "source": [
    "Next, we want to call `napalm`'s `get_network_driver` function, and pass in the name of the driver we wish to use. In this case, we want `junos` since we know the device we're about to get facts from is a Junos device:"
   ]
  },
  {
   "cell_type": "code",
   "execution_count": 8,
   "metadata": {},
   "outputs": [],
   "source": [
    "driver = napalm.get_network_driver(\"junos\")"
   ]
  },
  {
   "cell_type": "markdown",
   "metadata": {},
   "source": [
    "Often, rather than statically setting this parameter, it can be more useful to retrieve it from some kind of CMDB system.\n",
    "\n",
    "Now that we have a driver, we can call the driver like a function to get a handle on a specific device using its hostname and the username/password we generated earlier:"
   ]
  },
  {
   "cell_type": "code",
   "execution_count": 10,
   "metadata": {},
   "outputs": [],
   "source": [
    "device = driver(hostname=\"vqfx1\", username=\"antidote\", password=\"antidotepassword\")"
   ]
  },
  {
   "cell_type": "markdown",
   "metadata": {},
   "source": [
    "We can initiate the connection to the device with a call to `device.open()`:"
   ]
  },
  {
   "cell_type": "code",
   "execution_count": 11,
   "metadata": {},
   "outputs": [],
   "source": [
    "device.open()"
   ]
  },
  {
   "cell_type": "markdown",
   "metadata": {},
   "source": [
    "Now that the connection to this device is open, we can run the `get_facts()` function to print a list of retrieved device facts (This can take a few seconds, be patient)."
   ]
  },
  {
   "cell_type": "code",
   "execution_count": 11,
   "metadata": {},
   "outputs": [],
   "source": [
    "device.get_facts()"
   ]
  },
  {
   "cell_type": "markdown",
   "metadata": {},
   "source": [
    "That's a simple \"hello, world!\" style example. In the following labs, we'll explore other functions within NAPALM to retrieve more detailed information, as well as making configuration changes."
   ]
  }
 ],
 "metadata": {
  "kernelspec": {
   "display_name": "Python 3",
   "language": "python",
   "name": "python3"
  },
  "language_info": {
   "codemirror_mode": {
    "name": "ipython",
    "version": 3
   },
   "file_extension": ".py",
   "mimetype": "text/x-python",
   "name": "python",
   "nbconvert_exporter": "python",
   "pygments_lexer": "ipython3",
   "version": "3.6.6"
  }
 },
 "nbformat": 4,
 "nbformat_minor": 2
}
