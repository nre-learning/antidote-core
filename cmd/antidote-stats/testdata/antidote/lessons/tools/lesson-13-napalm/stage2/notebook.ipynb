{
 "cells": [
  {
   "cell_type": "markdown",
   "metadata": {},
   "source": [
    "# Multi-Vendor Network Automation with NAPALM\n",
    "\n",
    "## Part 2 - NAPALM's Getter Functions\n",
    "\n"
   ]
  },
  {
   "cell_type": "markdown",
   "metadata": {},
   "source": [
    "In the previous lab, we briefly introduced NAPALM, and ended by using a function called `get_facts()` to retrieve a few basic facts about the device we connected to.\n",
    "\n",
    "In this lab, we'll build on this by using a few additional functions aimed at retrieving more detailed information about a specific part of the device's operational state or configuration.\n",
    "\n",
    "First, we need to re-run the code we executed in the previous lab, to re-establish connectivity for this lab:"
   ]
  },
  {
   "cell_type": "code",
   "execution_count": 1,
   "metadata": {},
   "outputs": [],
   "source": [
    "import napalm\n",
    "driver = napalm.get_network_driver(\"junos\")\n",
    "device = driver(hostname=\"vqfx1\", username=\"antidote\", password=\"antidotepassword\")\n",
    "device.open()"
   ]
  },
  {
   "cell_type": "markdown",
   "metadata": {},
   "source": [
    "There are a few useful additional functions of the `device` class that we'll explore here. First, we can retrieve a full list of interface details:"
   ]
  },
  {
   "cell_type": "code",
   "execution_count": 5,
   "metadata": {},
   "outputs": [],
   "source": [
    "interfaces = device.get_interfaces()\n",
    "print(interfaces)"
   ]
  },
  {
   "cell_type": "markdown",
   "metadata": {},
   "source": [
    "This goes beyond the simple list we saw in the previous example with `get_facts`, and includes additional details like the interface's MAC address, up/down status, and operating speed.\n",
    "\n",
    "You may also notice that the data returned is a dictionary, where the keys are the name of the interface, and the values are nested dictionaries that contain key/value pairs for the properties of that interface.\n",
    "\n",
    "We can use a standard Python loop to iterate over this dictionary and only print the up/down status in a human-friendly way:"
   ]
  },
  {
   "cell_type": "code",
   "execution_count": 8,
   "metadata": {},
   "outputs": [],
   "source": [
    "for if_name, if_properties in interfaces.items():\n",
    "    if if_properties['is_up']:\n",
    "        print(\"Interface %s is UP\" % if_name)\n",
    "    else:\n",
    "        print(\"Interface %s is DOWN\" % if_name)"
   ]
  },
  {
   "cell_type": "markdown",
   "metadata": {},
   "source": [
    "Similarly, we can use the `get_interfaces_ip()` function to retrieve Layer 3 interface information:"
   ]
  },
  {
   "cell_type": "code",
   "execution_count": 9,
   "metadata": {},
   "outputs": [],
   "source": [
    "device.get_interfaces_ip()"
   ]
  },
  {
   "cell_type": "markdown",
   "metadata": {},
   "source": [
    "There are a number of additional functions, most of which are supported across numerous platforms. For more information, the [NAPALM documentation](https://napalm.readthedocs.io/en/latest/support/index.html#getters-support-matrix) contains a full list of getter functions and which platforms support each.\n",
    "\n",
    "Next, we'll cover the NAPALM CLI tool, and use it to execute some additional commands you may find useful when working with a multi-vendor environment."
   ]
  }
 ],
 "metadata": {
  "kernelspec": {
   "display_name": "Python 3",
   "language": "python",
   "name": "python3"
  },
  "language_info": {
   "codemirror_mode": {
    "name": "ipython",
    "version": 3
   },
   "file_extension": ".py",
   "mimetype": "text/x-python",
   "name": "python",
   "nbconvert_exporter": "python",
   "pygments_lexer": "ipython3",
   "version": "3.6.6"
  }
 },
 "nbformat": 4,
 "nbformat_minor": 2
}
